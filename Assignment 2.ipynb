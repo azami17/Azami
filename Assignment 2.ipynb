{
 "cells": [
  {
   "cell_type": "code",
   "execution_count": 26,
   "metadata": {},
   "outputs": [
    {
     "name": "stdout",
     "output_type": "stream",
     "text": [
      "24\n",
      "24\n",
      "24\n",
      "22\n",
      "24\n",
      "The Aviator                              Dec 17, 2004         Metascore 77 out of 100        https://www.metacritic.com/a/img/resize/313bb995d556b9cf86901684c9a1cc6823b3a114/catalog/provider/2/2/2-ff262f6f8a613316549e6fe720691132.jpg?auto=webp&fit=cover&height=132&width=88                     Leonardo DiCaprio stars as aviation pioneer Howard Hughes in this biopic directed by Martin Scorsese.\n",
      "Mountain Patrol                          Apr 14, 2006         Metascore 77 out of 100        https://www.metacritic.com/a/img/resize/31c808276cd271eefb9997cf4b591e94076a676d/catalog/provider/2/2/2-3f7e68fd1d8b7b8a7fe2af57596b7ee4.jpg?auto=webp&fit=cover&height=132&width=88                     Mountain Patrol: Kekexili is a film inspired by a people's remarkable mission surrounding the illegal Tibetan antelope poaching in the region of Kekexili, the largest animal reserve in China. The story is brought to the screen with great detail by director Lu Chuan. Set against the exquisite backdrop of the Qinghai-Tibetan Plateau, Chuan tells the tale of brave local Tibetans who face death and starvation to save the endangered antelope herds from a band of ruthless hunters.  (National Geographic World Films)\n",
      "Notre musique                            Nov 24, 2004         Metascore 77 out of 100        https://www.metacritic.com/a/img/resize/504d151bccf58f73abc3d3e6448c30f7ed0ecbdb/catalog/provider/2/2/2-0e4449b45345d4694083eb5e44692eee.jpg?auto=webp&fit=cover&height=132&width=88                     Part poetry, part journalism, part philosophy, Jean-Luc Godard's Notre Musique is a timeless meditation on war as seen through the prisms of cinema, text and image.  (Wellspring Media)\n",
      "The Holy Girl                            Apr 29, 2005         Metascore 77 out of 100        https://www.metacritic.com/a/img/resize/045bf1b19032ee753e8105b48f1dfa9cafb8ae1d/catalog/provider/2/2/2-fddbb3ef41a204e680c8304e621a85fa.jpg?auto=webp&fit=cover&height=132&width=88                     Martel intimately explores the burgeoning sexuality and religious fervor of two teenage girls, Amalia (Alche) and her best friend, Josefina (Zylberberg). Artfully piecing together a mosaic of nuanced details, fragments of sounds, and small moments, Martel creates a potent and specific portrait of adolescent life.  [Lita Stantic Producciones SA]\n",
      "Cinévardaphoto                           Feb 16, 2005         Metascore 76 out of 100        https://www.metacritic.com/a/img/resize/2b87295c36631a5e27d33a5397a50528ad02f68b/catalog/provider/2/2/2-94fff3748d125d0dbcf7394b3fe366d9.jpg?auto=webp&fit=cover&height=132&width=88                     A collection of three short cineessays by Agnes Varda: Ydessa, The Bears, and etc. (2004), Ulysses (1982) and Salut les Cubains (1963). A photographer before she turned to film, Varda explores the medium's ability to preserve a moment for eternity, while remaining open to an array of interpretations that evolve over time.  (Film Forum)\n",
      "The Hidden Blade                         Jun 23, 2006         Metascore 76 out of 100        https://www.metacritic.com/a/img/resize/aa9b5534c27833f89395524906a38541aa0d9054/catalog/provider/2/2/2-8448f04530b058114407c65a3213acf7.jpg?auto=webp&fit=cover&height=132&width=88                     Munezo Katagiri (Nagase), an honest and low ranking samurai is trapped in a state of personal and professional imbalance. Secretly in love with his family’s maid, Kie (Tabata), Munezo begins an uneasy courtship with her, knowing that a relationship is impossible. Raised to respect traditions from the past and the demanding moral code of the samurai, circumstances have now forced Munezo to look to the future. Required to master western military strategies, particularly the art of artillery, Munezo is ordered to find and kill Yaichiro, a former friend, samurai, and brilliant swordsman. Munezo knows that he cannot beat Yaichiro with fire power alone, so he enlists the help of his old teacher, Kansai Toda, a master swordsman who entrusts Munezo with the secret and power of The Hidden Blade.  (Tartan Films)\n",
      "The Ritchie Boys                         Oct 13, 2006         Metascore 76 out of 100        https://www.metacritic.com/a/img/resize/6913176cd623ea6f535cf148a7b371c17faa41bc/catalog/provider/2/2/2-b37450a8ed3c32828bac06e4b250b32b.jpg?auto=webp&fit=cover&height=132&width=88                     Christian Bauer's film &quot;The Ritchie Boys&quot; tells a story that's never been told before. It begins in Camp Ritchie, Maryland, the birthplace of modern psychological warfare, and it ends with the defeat of Germany in May of 1945. After D-Day the Ritchie Boys became a decisive force in the war. Nobody knew the enemy, his culture and his language better than they. Their mission: ascertain and break the enemy's morale.  (Tangram)\n",
      "Brothers                                 May 6, 2005          Metascore 76 out of 100        https://www.metacritic.com/a/img/resize/0cd5b4c80abc5c0dc755e01c706a66bd8119af72/catalog/provider/2/2/2-05157c60cca04556b661f4d71a313d5f.jpg?auto=webp&fit=cover&height=132&width=88                     The lives of two very different brothers become simultaneously intertwined and thrust apart in this intense and powerful drama.  (IFC Films)\n",
      "Dig!                                     Oct 1, 2004          Metascore 76 out of 100        https://www.metacritic.com/a/img/resize/000570c19900e5a26d411fe074d874c27f35c72c/catalog/provider/2/2/2-b5ebba20319700549ca9597bba8e77ac.jpg?auto=webp&fit=cover&height=132&width=88                     Dig! is a feature-length documentary shot over seven years about musicians Anton Newcombe, leader of the Brian Jonestown Massacre, and Courtney Taylor, head of the Dandy Warhols, star crossed friends and bitter rivals.  (Palm Pictures)\n",
      "A Very Long Engagement                   Nov 26, 2004         Metascore 76 out of 100        https://www.metacritic.com/a/img/resize/f1a0860d32fed88e022e2b32ed2c40ee2d4a2ca3/catalog/provider/2/2/2-07f2d1ca2b289603719eb485fbbd55d0.jpg?auto=webp&fit=cover&height=132&width=88                     An extraordinary love story set against the background of World War I.\n",
      "Black Friday                             Feb 9, 2007          Metascore 76 out of 100        https://www.metacritic.com/a/img/resize/04f67083ea724a1beea3fc9edad6c06a03da1fce/catalog/provider/2/2/2-ed9809fc2964649d24b097a526eef357.jpg?auto=webp&fit=cover&height=132&width=88                     Based on a book by Hussain Zaidi, Black Friday is the story of the 1993 bomb blasts that killed 257 people in Mumbai. \n",
      "Down to the Bone                         Nov 25, 2005         Metascore 76 out of 100        https://www.metacritic.com/a/img/resize/f5893dce0974d2e3560bb65013176c0a9f65d467/catalog/provider/2/2/2-06b6a53c77d572a646be2dd5125462c2.jpg?auto=webp&fit=cover&height=132&width=88                     Irene (Vera Farmiga) is a working class mother living in upstate New York. She struggles to keep her marriage together and raise two sons while keeping her cocaine addiction a secret. After a series of nearly fatal mishaps, and finally hoping to make a change in her life, she decides to check herself into a rehab center. There, she meets and falls in love with a fellow reformed addict (Hugh Dillon). When one of them falls into a relapse with the addiction, their commitment to staying clean – and to each other – shatters. This beautifully wrought film accurately and authentically explores the wrenching road of recovery without ever resorting to histrionics.  [Down to the Bone Productions]\n",
      "Shaun of the Dead                        Sep 24, 2004         Metascore 76 out of 100        https://www.metacritic.com/a/img/resize/438676cf36d65ab76dacc636169ecaaad8d38c82/catalog/provider/2/2/2-a7daf29eb8fc32a1892e9c048b278264.jpg?auto=webp&fit=cover&height=132&width=88                     This &quot;rom zom com&quot; (romantic zombie comedy) follows the bloody funny adventures of underachiever Shaun (Pegg) and his best mate Ed (Frost) as they cope with a zombie invasion of North London and attempt to rescue Shaun's girlfriend Liz (Ashfield) and his Mum (Wilton).  It's going to be one hell of a weekend.  (Rogue Pictures)\n",
      "The Manchurian Candidate                 Jul 30, 2004         Metascore 76 out of 100        https://www.metacritic.com/a/img/resize/54ab03f31c4330fb0bef58ef4011115110481a21/catalog/provider/2/2/2-410da4dd5d6a0a5deb66fab203f904a9.jpg?auto=webp&fit=cover&height=132&width=88                     As the entire nation watches the presidential campaign hurtle towards Election Day, one soldier races to uncover the conspiracy behind it -- a conspiracy that seeks to destroy democracy itself.  (Paramount Pictures)\n",
      "Machuca                                  Jan 19, 2005         Metascore 76 out of 100        https://www.metacritic.com/a/img/resize/b30ffd4dc798d94a0db8034e71f3595ea2b1a9de/catalog/provider/2/2/2-b3fb7e4da00af966ac278d597dd4435f.jpg?auto=webp&fit=cover&height=132&width=88                     Set in Santiago, Chile in 1973 (and based on filmmaker Andrés Wood's own childhood), Machuca is not just a political drama, but a poignant coming-of-age film.  (Film Forum)\n",
      "Another Road Home                        Apr 29, 2005         Metascore 75 out of 100        https://www.metacritic.com/a/img/resize/b09b3c458efc096c6a408101e900ba2471d50c83/catalog/provider/2/2/2-69ccf8c2263980fb1319ffbfbc713472.jpg?auto=webp&fit=cover&height=132&width=88                     This documentary is the deeply moving story of Israeli filmmaker, Danae Elon's quest to find Musa Obeidallah, the Palestinian man who helped raise her from the time she was a baby until she joined the Israeli army. This film reaches out with unsentimental acuity seasoned by deep affection, to all who believe in the power of family, trust and friendship. (GeoQuest Entertainment Group)\n",
      "Guerrilla: The Taking of Patty Hearst    Nov 26, 2004         Metascore 75 out of 100        https://www.metacritic.com/a/img/resize/969142729b66b2490141db0ec3978f28ae67911e/catalog/provider/2/13/2-61de32b945ac0116fa6092177d8d7ae6.jpg?auto=webp&fit=cover&height=132&width=88                    An unprecedented account of the Symbionese Liberation Army, arguably the most notorious and flamboyant domestic terrorist group in American history.  (Magnolia Pictures)\n",
      "Leaving Home, Coming Home: A Portrait of Robert Frank May 29, 2019         Metascore 75 out of 100        https://www.metacritic.com/a/img/resize/6555d45e02fd82fd62f84ee9abb0339438855d37/catalog/provider/2/2/2-26c900cc7872de473f004c8ad54c8f6c.jpg?auto=webp&fit=cover&height=132&width=88                     Shot in cinema-verité style between New York and Nova Scotia, where Robert Frank now lives, the film captures Frank reflecting on a lifetime of image making that most famously produced The Americans, probably the most influential photographic book of the last sixty years. From the Lower East Side to Coney Island, Frank revisits places where he lived and photographed, unsentimentally yet humorously noting the erosion of the New York. He recalls his collaborations with the Beat generation, including his film Pull my Daisy, narrated by Jack Kerouac, as well as his infamous Cocksucker Blues with The Rolling Stones. Affectionate conversations with Frank’s second wife, the vibrant artist June Leaf, reveal decades of closeness, creative exchange and support through the intense tragedies of Frank’s life. In rare moments of vulnerability, Frank speaks movingly about these tragedies and his attempts to cope through his deeply personal photography and films. Unembellished and unflinching, this portrait captures the life and art of one of the most significant and uncompromising artists of the 20th century.\n",
      "Touch the Sound: A Sound Journey with Evelyn Glennie Sep 7, 2005          Metascore 75 out of 100        https://www.metacritic.com/a/img/resize/7484fc01d43e235291c2446242f8a2ff8a66c5b2/catalog/provider/2/13/2-311f6c76b41190b46b372029b9a9c6fc.jpg?auto=webp&fit=cover&height=132&width=88                    Through the rhythms of Evelyn Glennie we touch the sound – we feel the beat of the universe. Thomas Riedelsheimer takes us on an expedition with Scottish percussionist Evelyn Glennie into the center of the sound world – a journey involving each of our senses. See, Feel, Embrace the sound. Evelyn’s postcards from her journey across the world feed into the creation of music from the interior of one of the most unique perspectives of sound and image on the planet.  (Shadow Distribution)\n",
      "Clean                                    Aug 12, 2005         Metascore 75 out of 100        https://www.metacritic.com/a/img/resize/1473668788aab34fa46f49013440596439b1b87e/catalog/provider/2/2/2-64fc5dc6417600a44234ed198cf68e6c.jpg?auto=webp&fit=cover&height=132&width=88                     A desperate woman with a drug problem seeks to put her life in order to regain contact with her little boy. \n",
      "The Ister                                Feb 10, 2006         Metascore 75 out of 100        https://www.metacritic.com/a/img/resize/739c0e830d0fbf446e7d824e96c286b041fcc33b/catalog/provider/2/2/2-d830132a119aa4ec90f638198bf3816f.jpg?auto=webp&fit=cover&height=132&width=88                     The Ister is a 3000km journey to the heart of Europe, from the mouth of the Danube river on the Black Sea, to its source in the German Black Forest. By joining a vast philosophical narrative with an epic voyage along Europe’s greatest waterway, The Ister invites you to unravel the extraordinary past and future of 'the West.'  (Black Box Sound and Image)\n",
      "The Motorcycle Diaries                   Sep 24, 2004         Metascore 75 out of 100        https://www.metacritic.com/a/img/resize/673024e4f2073360111c92f75cdcc5129462dabc/catalog/provider/2/2/2-25e6ddaff5c39963ee7ab8388b451d97.jpg?auto=webp&fit=cover&height=132&width=88                     This film follows an inspiring journey of self-discovery and traces the youthful origins of a revolutionary heart, Che Guevara.  (Focus Features)\n"
     ]
    },
    {
     "ename": "IndexError",
     "evalue": "list index out of range",
     "output_type": "error",
     "traceback": [
      "\u001b[1;31m---------------------------------------------------------------------------\u001b[0m",
      "\u001b[1;31mIndexError\u001b[0m                                Traceback (most recent call last)",
      "\u001b[1;32mUntitled-1.ipynb Cell 1\u001b[0m line \u001b[0;36m5\n\u001b[0;32m     <a href='vscode-notebook-cell:Untitled-1.ipynb?jupyter-notebook#W0sdW50aXRsZWQ%3D?line=47'>48</a>\u001b[0m         \u001b[39mprint\u001b[39m(\u001b[39mf\u001b[39m\u001b[39m\"\u001b[39m\u001b[39m{\u001b[39;00mmovie_title[i]\u001b[39m:\u001b[39;00m\u001b[39m40\u001b[39m\u001b[39m}\u001b[39;00m\u001b[39m \u001b[39m\u001b[39m{\u001b[39;00mmovie_date[i]\u001b[39m:\u001b[39;00m\u001b[39m20\u001b[39m\u001b[39m}\u001b[39;00m\u001b[39m \u001b[39m\u001b[39m{\u001b[39;00mmetascore[i]\u001b[39m:\u001b[39;00m\u001b[39m30\u001b[39m\u001b[39m}\u001b[39;00m\u001b[39m \u001b[39m\u001b[39m{\u001b[39;00mf_thumbnails\u001b[39m:\u001b[39;00m\u001b[39m200\u001b[39m\u001b[39m}\u001b[39;00m\u001b[39m \u001b[39m\u001b[39m{\u001b[39;00mmovie_des[i]\u001b[39m}\u001b[39;00m\u001b[39m\"\u001b[39m)\n\u001b[0;32m     <a href='vscode-notebook-cell:Untitled-1.ipynb?jupyter-notebook#W0sdW50aXRsZWQ%3D?line=50'>51</a>\u001b[0m \u001b[39m#script(link = \"https://www.metacritic.com/browse/movie/?releaseYearMin=2004&releaseYearMax=2004&page=1\")\u001b[39;00m\n\u001b[0;32m     <a href='vscode-notebook-cell:Untitled-1.ipynb?jupyter-notebook#W0sdW50aXRsZWQ%3D?line=51'>52</a>\u001b[0m \u001b[39m#script(link = \"https://www.metacritic.com/browse/movie/?releaseYearMin=2004&releaseYearMax=2004&page=2\")\u001b[39;00m\n\u001b[1;32m---> <a href='vscode-notebook-cell:Untitled-1.ipynb?jupyter-notebook#W0sdW50aXRsZWQ%3D?line=52'>53</a>\u001b[0m script(link \u001b[39m=\u001b[39;49m \u001b[39m\"\u001b[39;49m\u001b[39mhttps://www.metacritic.com/browse/movie/?releaseYearMin=2004&releaseYearMax=2004&page=3\u001b[39;49m\u001b[39m\"\u001b[39;49m)\n\u001b[0;32m     <a href='vscode-notebook-cell:Untitled-1.ipynb?jupyter-notebook#W0sdW50aXRsZWQ%3D?line=53'>54</a>\u001b[0m \u001b[39m#script(link = \"https://www.metacritic.com/browse/movie/?releaseYearMin=2004&releaseYearMax=2004&page=4\")\u001b[39;00m\n",
      "\u001b[1;32mUntitled-1.ipynb Cell 1\u001b[0m line \u001b[0;36m4\n\u001b[0;32m     <a href='vscode-notebook-cell:Untitled-1.ipynb?jupyter-notebook#W0sdW50aXRsZWQ%3D?line=40'>41</a>\u001b[0m \u001b[39mprint\u001b[39m (\u001b[39mlen\u001b[39m(movie_des))\n\u001b[0;32m     <a href='vscode-notebook-cell:Untitled-1.ipynb?jupyter-notebook#W0sdW50aXRsZWQ%3D?line=43'>44</a>\u001b[0m \u001b[39mfor\u001b[39;00m i \u001b[39min\u001b[39;00m \u001b[39mrange\u001b[39m(\u001b[39mlen\u001b[39m(movie_title)):\n\u001b[0;32m     <a href='vscode-notebook-cell:Untitled-1.ipynb?jupyter-notebook#W0sdW50aXRsZWQ%3D?line=44'>45</a>\u001b[0m \u001b[39m# to transform amp$ to $\u001b[39;00m\n\u001b[1;32m---> <a href='vscode-notebook-cell:Untitled-1.ipynb?jupyter-notebook#W0sdW50aXRsZWQ%3D?line=45'>46</a>\u001b[0m     f_thumbnails \u001b[39m=\u001b[39m thumbnails[i]\u001b[39m.\u001b[39mreplace(\u001b[39m\"\u001b[39m\u001b[39m&amp;\u001b[39m\u001b[39m\"\u001b[39m, \u001b[39m\"\u001b[39m\u001b[39m&\u001b[39m\u001b[39m\"\u001b[39m)\n\u001b[0;32m     <a href='vscode-notebook-cell:Untitled-1.ipynb?jupyter-notebook#W0sdW50aXRsZWQ%3D?line=47'>48</a>\u001b[0m     \u001b[39mprint\u001b[39m(\u001b[39mf\u001b[39m\u001b[39m\"\u001b[39m\u001b[39m{\u001b[39;00mmovie_title[i]\u001b[39m:\u001b[39;00m\u001b[39m40\u001b[39m\u001b[39m}\u001b[39;00m\u001b[39m \u001b[39m\u001b[39m{\u001b[39;00mmovie_date[i]\u001b[39m:\u001b[39;00m\u001b[39m20\u001b[39m\u001b[39m}\u001b[39;00m\u001b[39m \u001b[39m\u001b[39m{\u001b[39;00mmetascore[i]\u001b[39m:\u001b[39;00m\u001b[39m30\u001b[39m\u001b[39m}\u001b[39;00m\u001b[39m \u001b[39m\u001b[39m{\u001b[39;00mf_thumbnails\u001b[39m:\u001b[39;00m\u001b[39m200\u001b[39m\u001b[39m}\u001b[39;00m\u001b[39m \u001b[39m\u001b[39m{\u001b[39;00mmovie_des[i]\u001b[39m}\u001b[39;00m\u001b[39m\"\u001b[39m)\n",
      "\u001b[1;31mIndexError\u001b[0m: list index out of range"
     ]
    }
   ],
   "source": [
    "import urllib3\n",
    "import certifi\n",
    "import re\n",
    "\n",
    "\n",
    "# Construct a python request pool\n",
    "http = urllib3.PoolManager(ca_certs=certifi.where())\n",
    "\n",
    "#Intiate a web request\n",
    "\n",
    "\n",
    "def script (link):\n",
    "\n",
    "    #Intiation of Web Request\n",
    "    r = http.request('GET', link, headers={'User-Agent': 'Mozilla/5.0'})\n",
    "\n",
    "    #Convert the result from raw bytes to text\n",
    "    datastring = str(r.data, \"utf-8\")\n",
    "\n",
    "    #get the title of movie\n",
    "    movie_title = re.findall (\"<div data-title=\\\"(.*?)\\\"\",datastring)\n",
    "\n",
    "    #get Movie Date\n",
    "    movie_date = re.findall (\"<span class=\\\"u-text-uppercase\\\">\\s*(.*)\\s*<\\/span>\", datastring)\n",
    "\n",
    "    #find MetaScore\n",
    "    metascore = re.findall (\"<div title=\\\"(.*?)\\\"\", datastring)\n",
    "\n",
    "    #Convert the result from raw bytes to test\n",
    "    thumbnails = re.findall(r'<picture class=\"c-cmsImage\"> <img src=\"(.*?)\"', datastring)\n",
    "\n",
    "\n",
    "    #find Movie Description\n",
    "    movie_des = re.findall(\"<div class=\\\"c-finderProductCard_description\\\"><span>([^<]*)< ?\", datastring)\n",
    "\n",
    "\n",
    "    print (len(movie_title))\n",
    "    print (len(movie_date) )\n",
    "    print (len(metascore))\n",
    "    print (len(thumbnails))\n",
    "    print (len(movie_des))\n",
    "\n",
    "\n",
    "    for i in range(len(movie_title)):\n",
    "    # to transform amp$ to $\n",
    "        f_thumbnails = thumbnails[i].replace(\"&amp;\", \"&\")\n",
    "\n",
    "        print(f\"{movie_title[i]:40} {movie_date[i]:20} {metascore[i]:30} {f_thumbnails:200} {movie_des[i]}\")\n",
    "\n",
    "\n",
    "#script(link = \"https://www.metacritic.com/browse/movie/?releaseYearMin=2004&releaseYearMax=2004&page=1\")\n",
    "#script(link = \"https://www.metacritic.com/browse/movie/?releaseYearMin=2004&releaseYearMax=2004&page=2\")\n",
    "script(link = \"https://www.metacritic.com/browse/movie/?releaseYearMin=2004&releaseYearMax=2004&page=3\")\n",
    "#script(link = \"https://www.metacritic.com/browse/movie/?releaseYearMin=2004&releaseYearMax=2004&page=4\")"
   ]
  }
 ],
 "metadata": {
  "kernelspec": {
   "display_name": "Python 3",
   "language": "python",
   "name": "python3"
  },
  "language_info": {
   "codemirror_mode": {
    "name": "ipython",
    "version": 3
   },
   "file_extension": ".py",
   "mimetype": "text/x-python",
   "name": "python",
   "nbconvert_exporter": "python",
   "pygments_lexer": "ipython3",
   "version": "3.11.5"
  },
  "orig_nbformat": 4
 },
 "nbformat": 4,
 "nbformat_minor": 2
}
